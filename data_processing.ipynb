{
 "cells": [
  {
   "cell_type": "code",
   "execution_count": 1,
   "metadata": {},
   "outputs": [],
   "source": [
    "import numpy as np\n",
    "import pandas as pd"
   ]
  },
  {
   "cell_type": "markdown",
   "metadata": {},
   "source": [
    "# Load raw data"
   ]
  },
  {
   "cell_type": "code",
   "execution_count": 2,
   "metadata": {},
   "outputs": [
    {
     "name": "stderr",
     "output_type": "stream",
     "text": [
      "C:\\Users\\ID20178\\Anaconda3\\lib\\site-packages\\numpy\\lib\\arraysetops.py:569: FutureWarning: elementwise comparison failed; returning scalar instead, but in the future will perform elementwise comparison\n",
      "  mask |= (ar1 == a)\n"
     ]
    },
    {
     "name": "stdout",
     "output_type": "stream",
     "text": [
      "Wall time: 5min 56s\n"
     ]
    },
    {
     "data": {
      "text/html": [
       "<div>\n",
       "<style scoped>\n",
       "    .dataframe tbody tr th:only-of-type {\n",
       "        vertical-align: middle;\n",
       "    }\n",
       "\n",
       "    .dataframe tbody tr th {\n",
       "        vertical-align: top;\n",
       "    }\n",
       "\n",
       "    .dataframe thead th {\n",
       "        text-align: right;\n",
       "    }\n",
       "</style>\n",
       "<table border=\"1\" class=\"dataframe\">\n",
       "  <thead>\n",
       "    <tr style=\"text-align: right;\">\n",
       "      <th></th>\n",
       "      <th>object_id</th>\n",
       "      <th>phase</th>\n",
       "      <th>timestamp</th>\n",
       "      <th>pipeline</th>\n",
       "      <th>supply_flow</th>\n",
       "      <th>supply_pressure</th>\n",
       "      <th>return_temperature</th>\n",
       "      <th>return_conductivity</th>\n",
       "      <th>return_turbidity</th>\n",
       "      <th>return_flow</th>\n",
       "      <th>...</th>\n",
       "      <th>tank_temperature_pre_rinse</th>\n",
       "      <th>tank_temperature_caustic</th>\n",
       "      <th>tank_temperature_acid</th>\n",
       "      <th>tank_concentration_caustic</th>\n",
       "      <th>tank_concentration_acid</th>\n",
       "      <th>tank_lsh_caustic</th>\n",
       "      <th>tank_lsh_acid</th>\n",
       "      <th>tank_lsh_clean_water</th>\n",
       "      <th>tank_lsh_pre_rinse</th>\n",
       "      <th>target_time_period</th>\n",
       "    </tr>\n",
       "    <tr>\n",
       "      <th>process_id</th>\n",
       "      <th></th>\n",
       "      <th></th>\n",
       "      <th></th>\n",
       "      <th></th>\n",
       "      <th></th>\n",
       "      <th></th>\n",
       "      <th></th>\n",
       "      <th></th>\n",
       "      <th></th>\n",
       "      <th></th>\n",
       "      <th></th>\n",
       "      <th></th>\n",
       "      <th></th>\n",
       "      <th></th>\n",
       "      <th></th>\n",
       "      <th></th>\n",
       "      <th></th>\n",
       "      <th></th>\n",
       "      <th></th>\n",
       "      <th></th>\n",
       "      <th></th>\n",
       "    </tr>\n",
       "  </thead>\n",
       "  <tbody>\n",
       "    <tr>\n",
       "      <th>20775</th>\n",
       "      <td>941</td>\n",
       "      <td>final_rinse</td>\n",
       "      <td>2018-03-28 13:32:40+07:00</td>\n",
       "      <td>L9</td>\n",
       "      <td>32392.94100</td>\n",
       "      <td>0.137370</td>\n",
       "      <td>70.518660</td>\n",
       "      <td>41.482605</td>\n",
       "      <td>0.354456</td>\n",
       "      <td>25057.8710</td>\n",
       "      <td>...</td>\n",
       "      <td>27.882668</td>\n",
       "      <td>83.43461</td>\n",
       "      <td>72.276474</td>\n",
       "      <td>45.153120</td>\n",
       "      <td>44.309620</td>\n",
       "      <td>False</td>\n",
       "      <td>0</td>\n",
       "      <td>False</td>\n",
       "      <td>0</td>\n",
       "      <td>False</td>\n",
       "    </tr>\n",
       "    <tr>\n",
       "      <th>20775</th>\n",
       "      <td>941</td>\n",
       "      <td>final_rinse</td>\n",
       "      <td>2018-03-28 13:36:56+07:00</td>\n",
       "      <td>L9</td>\n",
       "      <td>28023.72500</td>\n",
       "      <td>0.244575</td>\n",
       "      <td>19.231047</td>\n",
       "      <td>0.314453</td>\n",
       "      <td>1.302083</td>\n",
       "      <td>29864.7290</td>\n",
       "      <td>...</td>\n",
       "      <td>27.759691</td>\n",
       "      <td>82.36039</td>\n",
       "      <td>72.276474</td>\n",
       "      <td>45.156685</td>\n",
       "      <td>44.309620</td>\n",
       "      <td>False</td>\n",
       "      <td>0</td>\n",
       "      <td>False</td>\n",
       "      <td>0</td>\n",
       "      <td>True</td>\n",
       "    </tr>\n",
       "    <tr>\n",
       "      <th>20775</th>\n",
       "      <td>941</td>\n",
       "      <td>final_rinse</td>\n",
       "      <td>2018-03-28 13:37:20+07:00</td>\n",
       "      <td>L9</td>\n",
       "      <td>57.87037</td>\n",
       "      <td>0.048394</td>\n",
       "      <td>11.476418</td>\n",
       "      <td>0.271579</td>\n",
       "      <td>0.737847</td>\n",
       "      <td>27830.2230</td>\n",
       "      <td>...</td>\n",
       "      <td>27.759691</td>\n",
       "      <td>82.38209</td>\n",
       "      <td>72.276474</td>\n",
       "      <td>45.142090</td>\n",
       "      <td>44.309620</td>\n",
       "      <td>False</td>\n",
       "      <td>0</td>\n",
       "      <td>False</td>\n",
       "      <td>0</td>\n",
       "      <td>True</td>\n",
       "    </tr>\n",
       "    <tr>\n",
       "      <th>20776</th>\n",
       "      <td>932</td>\n",
       "      <td>acid</td>\n",
       "      <td>2018-04-04 20:26:48+07:00</td>\n",
       "      <td>L8</td>\n",
       "      <td>22424.76800</td>\n",
       "      <td>-0.110894</td>\n",
       "      <td>49.048756</td>\n",
       "      <td>0.468332</td>\n",
       "      <td>0.220631</td>\n",
       "      <td>35850.6950</td>\n",
       "      <td>...</td>\n",
       "      <td>27.376303</td>\n",
       "      <td>82.52315</td>\n",
       "      <td>72.576675</td>\n",
       "      <td>45.195724</td>\n",
       "      <td>44.645237</td>\n",
       "      <td>False</td>\n",
       "      <td>0</td>\n",
       "      <td>False</td>\n",
       "      <td>0</td>\n",
       "      <td>False</td>\n",
       "    </tr>\n",
       "    <tr>\n",
       "      <th>20782</th>\n",
       "      <td>113</td>\n",
       "      <td>intermediate_rinse</td>\n",
       "      <td>2018-04-15 08:35:18+07:00</td>\n",
       "      <td>L1</td>\n",
       "      <td>37.61574</td>\n",
       "      <td>0.839627</td>\n",
       "      <td>79.528360</td>\n",
       "      <td>41.981667</td>\n",
       "      <td>16.106047</td>\n",
       "      <td>2688.0786</td>\n",
       "      <td>...</td>\n",
       "      <td>32.259117</td>\n",
       "      <td>82.72569</td>\n",
       "      <td>72.554980</td>\n",
       "      <td>45.727770</td>\n",
       "      <td>44.491592</td>\n",
       "      <td>False</td>\n",
       "      <td>0</td>\n",
       "      <td>False</td>\n",
       "      <td>0</td>\n",
       "      <td>False</td>\n",
       "    </tr>\n",
       "  </tbody>\n",
       "</table>\n",
       "<p>5 rows × 34 columns</p>\n",
       "</div>"
      ],
      "text/plain": [
       "            object_id               phase                 timestamp pipeline  \\\n",
       "process_id                                                                     \n",
       "20775             941         final_rinse 2018-03-28 13:32:40+07:00       L9   \n",
       "20775             941         final_rinse 2018-03-28 13:36:56+07:00       L9   \n",
       "20775             941         final_rinse 2018-03-28 13:37:20+07:00       L9   \n",
       "20776             932                acid 2018-04-04 20:26:48+07:00       L8   \n",
       "20782             113  intermediate_rinse 2018-04-15 08:35:18+07:00       L1   \n",
       "\n",
       "            supply_flow  supply_pressure  return_temperature  \\\n",
       "process_id                                                     \n",
       "20775       32392.94100         0.137370           70.518660   \n",
       "20775       28023.72500         0.244575           19.231047   \n",
       "20775          57.87037         0.048394           11.476418   \n",
       "20776       22424.76800        -0.110894           49.048756   \n",
       "20782          37.61574         0.839627           79.528360   \n",
       "\n",
       "            return_conductivity  return_turbidity  return_flow  ...  \\\n",
       "process_id                                                      ...   \n",
       "20775                 41.482605          0.354456   25057.8710  ...   \n",
       "20775                  0.314453          1.302083   29864.7290  ...   \n",
       "20775                  0.271579          0.737847   27830.2230  ...   \n",
       "20776                  0.468332          0.220631   35850.6950  ...   \n",
       "20782                 41.981667         16.106047    2688.0786  ...   \n",
       "\n",
       "            tank_temperature_pre_rinse  tank_temperature_caustic  \\\n",
       "process_id                                                         \n",
       "20775                        27.882668                  83.43461   \n",
       "20775                        27.759691                  82.36039   \n",
       "20775                        27.759691                  82.38209   \n",
       "20776                        27.376303                  82.52315   \n",
       "20782                        32.259117                  82.72569   \n",
       "\n",
       "            tank_temperature_acid  tank_concentration_caustic  \\\n",
       "process_id                                                      \n",
       "20775                   72.276474                   45.153120   \n",
       "20775                   72.276474                   45.156685   \n",
       "20775                   72.276474                   45.142090   \n",
       "20776                   72.576675                   45.195724   \n",
       "20782                   72.554980                   45.727770   \n",
       "\n",
       "            tank_concentration_acid  tank_lsh_caustic  tank_lsh_acid  \\\n",
       "process_id                                                             \n",
       "20775                     44.309620             False              0   \n",
       "20775                     44.309620             False              0   \n",
       "20775                     44.309620             False              0   \n",
       "20776                     44.645237             False              0   \n",
       "20782                     44.491592             False              0   \n",
       "\n",
       "            tank_lsh_clean_water  tank_lsh_pre_rinse  target_time_period  \n",
       "process_id                                                                \n",
       "20775                      False                   0               False  \n",
       "20775                      False                   0                True  \n",
       "20775                      False                   0                True  \n",
       "20776                      False                   0               False  \n",
       "20782                      False                   0               False  \n",
       "\n",
       "[5 rows x 34 columns]"
      ]
     },
     "execution_count": 2,
     "metadata": {},
     "output_type": "execute_result"
    }
   ],
   "source": [
    "%%time\n",
    "train_values = pd.read_csv('sustainable-industry-rinse-over-run-training-set-values.csv',\n",
    "                           sep=';',\n",
    "                           index_col=0,\n",
    "                           parse_dates=['timestamp'])\n",
    "train_values.head()"
   ]
  },
  {
   "cell_type": "code",
   "execution_count": 3,
   "metadata": {},
   "outputs": [
    {
     "name": "stderr",
     "output_type": "stream",
     "text": [
      "C:\\Users\\ID20178\\Anaconda3\\lib\\site-packages\\numpy\\lib\\arraysetops.py:569: FutureWarning: elementwise comparison failed; returning scalar instead, but in the future will perform elementwise comparison\n",
      "  mask |= (ar1 == a)\n"
     ]
    },
    {
     "name": "stdout",
     "output_type": "stream",
     "text": [
      "Wall time: 1min 48s\n"
     ]
    },
    {
     "data": {
      "text/html": [
       "<div>\n",
       "<style scoped>\n",
       "    .dataframe tbody tr th:only-of-type {\n",
       "        vertical-align: middle;\n",
       "    }\n",
       "\n",
       "    .dataframe tbody tr th {\n",
       "        vertical-align: top;\n",
       "    }\n",
       "\n",
       "    .dataframe thead th {\n",
       "        text-align: right;\n",
       "    }\n",
       "</style>\n",
       "<table border=\"1\" class=\"dataframe\">\n",
       "  <thead>\n",
       "    <tr style=\"text-align: right;\">\n",
       "      <th></th>\n",
       "      <th>object_id</th>\n",
       "      <th>phase</th>\n",
       "      <th>timestamp</th>\n",
       "      <th>pipeline</th>\n",
       "      <th>supply_flow</th>\n",
       "      <th>supply_pressure</th>\n",
       "      <th>return_temperature</th>\n",
       "      <th>return_conductivity</th>\n",
       "      <th>return_turbidity</th>\n",
       "      <th>return_flow</th>\n",
       "      <th>...</th>\n",
       "      <th>tank_temperature_pre_rinse</th>\n",
       "      <th>tank_temperature_caustic</th>\n",
       "      <th>tank_temperature_acid</th>\n",
       "      <th>tank_concentration_caustic</th>\n",
       "      <th>tank_concentration_acid</th>\n",
       "      <th>tank_lsh_caustic</th>\n",
       "      <th>tank_lsh_acid</th>\n",
       "      <th>tank_lsh_clean_water</th>\n",
       "      <th>tank_lsh_pre_rinse</th>\n",
       "      <th>target_time_period</th>\n",
       "    </tr>\n",
       "    <tr>\n",
       "      <th>process_id</th>\n",
       "      <th></th>\n",
       "      <th></th>\n",
       "      <th></th>\n",
       "      <th></th>\n",
       "      <th></th>\n",
       "      <th></th>\n",
       "      <th></th>\n",
       "      <th></th>\n",
       "      <th></th>\n",
       "      <th></th>\n",
       "      <th></th>\n",
       "      <th></th>\n",
       "      <th></th>\n",
       "      <th></th>\n",
       "      <th></th>\n",
       "      <th></th>\n",
       "      <th></th>\n",
       "      <th></th>\n",
       "      <th></th>\n",
       "      <th></th>\n",
       "      <th></th>\n",
       "    </tr>\n",
       "  </thead>\n",
       "  <tbody>\n",
       "    <tr>\n",
       "      <th>25031</th>\n",
       "      <td>965</td>\n",
       "      <td>caustic</td>\n",
       "      <td>2018-05-23 16:49:07+07:00</td>\n",
       "      <td>L11</td>\n",
       "      <td>30213.7580</td>\n",
       "      <td>-0.036892</td>\n",
       "      <td>37.547020</td>\n",
       "      <td>33.056580</td>\n",
       "      <td>1.486545</td>\n",
       "      <td>21598.3090</td>\n",
       "      <td>...</td>\n",
       "      <td>29.304108</td>\n",
       "      <td>82.83782</td>\n",
       "      <td>72.855180</td>\n",
       "      <td>45.246970</td>\n",
       "      <td>46.539764</td>\n",
       "      <td>False</td>\n",
       "      <td>0.0</td>\n",
       "      <td>False</td>\n",
       "      <td>0.0</td>\n",
       "      <td>False</td>\n",
       "    </tr>\n",
       "    <tr>\n",
       "      <th>25031</th>\n",
       "      <td>965</td>\n",
       "      <td>caustic</td>\n",
       "      <td>2018-05-23 16:53:23+07:00</td>\n",
       "      <td>L11</td>\n",
       "      <td>29953.3420</td>\n",
       "      <td>0.304688</td>\n",
       "      <td>72.012440</td>\n",
       "      <td>46.266640</td>\n",
       "      <td>1.182726</td>\n",
       "      <td>33901.1880</td>\n",
       "      <td>...</td>\n",
       "      <td>29.343895</td>\n",
       "      <td>81.70934</td>\n",
       "      <td>72.710500</td>\n",
       "      <td>45.035686</td>\n",
       "      <td>44.923610</td>\n",
       "      <td>False</td>\n",
       "      <td>0.0</td>\n",
       "      <td>False</td>\n",
       "      <td>0.0</td>\n",
       "      <td>False</td>\n",
       "    </tr>\n",
       "    <tr>\n",
       "      <th>25034</th>\n",
       "      <td>112</td>\n",
       "      <td>caustic</td>\n",
       "      <td>2018-05-04 00:14:11+07:00</td>\n",
       "      <td>L1</td>\n",
       "      <td>4019.0974</td>\n",
       "      <td>1.309462</td>\n",
       "      <td>50.354458</td>\n",
       "      <td>45.017784</td>\n",
       "      <td>2.658420</td>\n",
       "      <td>4855.3237</td>\n",
       "      <td>...</td>\n",
       "      <td>31.405527</td>\n",
       "      <td>82.94994</td>\n",
       "      <td>72.941986</td>\n",
       "      <td>45.266890</td>\n",
       "      <td>44.618195</td>\n",
       "      <td>False</td>\n",
       "      <td>0.0</td>\n",
       "      <td>False</td>\n",
       "      <td>0.0</td>\n",
       "      <td>False</td>\n",
       "    </tr>\n",
       "    <tr>\n",
       "      <th>25039</th>\n",
       "      <td>438</td>\n",
       "      <td>pre_rinse</td>\n",
       "      <td>2018-05-01 00:43:15+07:00</td>\n",
       "      <td>L4</td>\n",
       "      <td>15219.9080</td>\n",
       "      <td>1.046224</td>\n",
       "      <td>24.587673</td>\n",
       "      <td>0.189274</td>\n",
       "      <td>7.794415</td>\n",
       "      <td>13364.4390</td>\n",
       "      <td>...</td>\n",
       "      <td>30.475983</td>\n",
       "      <td>82.45442</td>\n",
       "      <td>73.017940</td>\n",
       "      <td>45.272274</td>\n",
       "      <td>43.103653</td>\n",
       "      <td>False</td>\n",
       "      <td>0.0</td>\n",
       "      <td>False</td>\n",
       "      <td>0.0</td>\n",
       "      <td>False</td>\n",
       "    </tr>\n",
       "    <tr>\n",
       "      <th>25039</th>\n",
       "      <td>438</td>\n",
       "      <td>caustic</td>\n",
       "      <td>2018-05-01 00:48:31+07:00</td>\n",
       "      <td>L4</td>\n",
       "      <td>29998.5530</td>\n",
       "      <td>2.011285</td>\n",
       "      <td>27.423323</td>\n",
       "      <td>1.377655</td>\n",
       "      <td>2.025463</td>\n",
       "      <td>38823.7850</td>\n",
       "      <td>...</td>\n",
       "      <td>30.190250</td>\n",
       "      <td>82.41464</td>\n",
       "      <td>73.017940</td>\n",
       "      <td>45.315514</td>\n",
       "      <td>43.103653</td>\n",
       "      <td>False</td>\n",
       "      <td>0.0</td>\n",
       "      <td>False</td>\n",
       "      <td>0.0</td>\n",
       "      <td>False</td>\n",
       "    </tr>\n",
       "  </tbody>\n",
       "</table>\n",
       "<p>5 rows × 34 columns</p>\n",
       "</div>"
      ],
      "text/plain": [
       "            object_id      phase                 timestamp pipeline  \\\n",
       "process_id                                                            \n",
       "25031             965    caustic 2018-05-23 16:49:07+07:00      L11   \n",
       "25031             965    caustic 2018-05-23 16:53:23+07:00      L11   \n",
       "25034             112    caustic 2018-05-04 00:14:11+07:00       L1   \n",
       "25039             438  pre_rinse 2018-05-01 00:43:15+07:00       L4   \n",
       "25039             438    caustic 2018-05-01 00:48:31+07:00       L4   \n",
       "\n",
       "            supply_flow  supply_pressure  return_temperature  \\\n",
       "process_id                                                     \n",
       "25031        30213.7580        -0.036892           37.547020   \n",
       "25031        29953.3420         0.304688           72.012440   \n",
       "25034         4019.0974         1.309462           50.354458   \n",
       "25039        15219.9080         1.046224           24.587673   \n",
       "25039        29998.5530         2.011285           27.423323   \n",
       "\n",
       "            return_conductivity  return_turbidity  return_flow  ...  \\\n",
       "process_id                                                      ...   \n",
       "25031                 33.056580          1.486545   21598.3090  ...   \n",
       "25031                 46.266640          1.182726   33901.1880  ...   \n",
       "25034                 45.017784          2.658420    4855.3237  ...   \n",
       "25039                  0.189274          7.794415   13364.4390  ...   \n",
       "25039                  1.377655          2.025463   38823.7850  ...   \n",
       "\n",
       "            tank_temperature_pre_rinse  tank_temperature_caustic  \\\n",
       "process_id                                                         \n",
       "25031                        29.304108                  82.83782   \n",
       "25031                        29.343895                  81.70934   \n",
       "25034                        31.405527                  82.94994   \n",
       "25039                        30.475983                  82.45442   \n",
       "25039                        30.190250                  82.41464   \n",
       "\n",
       "            tank_temperature_acid  tank_concentration_caustic  \\\n",
       "process_id                                                      \n",
       "25031                   72.855180                   45.246970   \n",
       "25031                   72.710500                   45.035686   \n",
       "25034                   72.941986                   45.266890   \n",
       "25039                   73.017940                   45.272274   \n",
       "25039                   73.017940                   45.315514   \n",
       "\n",
       "            tank_concentration_acid  tank_lsh_caustic  tank_lsh_acid  \\\n",
       "process_id                                                             \n",
       "25031                     46.539764             False            0.0   \n",
       "25031                     44.923610             False            0.0   \n",
       "25034                     44.618195             False            0.0   \n",
       "25039                     43.103653             False            0.0   \n",
       "25039                     43.103653             False            0.0   \n",
       "\n",
       "            tank_lsh_clean_water  tank_lsh_pre_rinse  target_time_period  \n",
       "process_id                                                                \n",
       "25031                      False                 0.0               False  \n",
       "25031                      False                 0.0               False  \n",
       "25034                      False                 0.0               False  \n",
       "25039                      False                 0.0               False  \n",
       "25039                      False                 0.0               False  \n",
       "\n",
       "[5 rows x 34 columns]"
      ]
     },
     "execution_count": 3,
     "metadata": {},
     "output_type": "execute_result"
    }
   ],
   "source": [
    "%%time\n",
    "test_values = pd.read_csv('sustainable-industry-rinse-over-run-test-set-values.csv',\n",
    "                          sep=';',\n",
    "                          index_col=0,\n",
    "                          parse_dates=['timestamp'])\n",
    "test_values.head()"
   ]
  },
  {
   "cell_type": "code",
   "execution_count": 4,
   "metadata": {},
   "outputs": [
    {
     "data": {
      "text/html": [
       "<div>\n",
       "<style scoped>\n",
       "    .dataframe tbody tr th:only-of-type {\n",
       "        vertical-align: middle;\n",
       "    }\n",
       "\n",
       "    .dataframe tbody tr th {\n",
       "        vertical-align: top;\n",
       "    }\n",
       "\n",
       "    .dataframe thead th {\n",
       "        text-align: right;\n",
       "    }\n",
       "</style>\n",
       "<table border=\"1\" class=\"dataframe\">\n",
       "  <thead>\n",
       "    <tr style=\"text-align: right;\">\n",
       "      <th></th>\n",
       "      <th>final_rinse_total_turbidity_liter</th>\n",
       "    </tr>\n",
       "    <tr>\n",
       "      <th>process_id</th>\n",
       "      <th></th>\n",
       "    </tr>\n",
       "  </thead>\n",
       "  <tbody>\n",
       "    <tr>\n",
       "      <th>20008</th>\n",
       "      <td>4.100847e+06</td>\n",
       "    </tr>\n",
       "    <tr>\n",
       "      <th>20047</th>\n",
       "      <td>3.263581e+05</td>\n",
       "    </tr>\n",
       "    <tr>\n",
       "      <th>20076</th>\n",
       "      <td>1.888934e+06</td>\n",
       "    </tr>\n",
       "    <tr>\n",
       "      <th>20096</th>\n",
       "      <td>6.065643e+05</td>\n",
       "    </tr>\n",
       "    <tr>\n",
       "      <th>20120</th>\n",
       "      <td>5.075102e+05</td>\n",
       "    </tr>\n",
       "  </tbody>\n",
       "</table>\n",
       "</div>"
      ],
      "text/plain": [
       "            final_rinse_total_turbidity_liter\n",
       "process_id                                   \n",
       "20008                            4.100847e+06\n",
       "20047                            3.263581e+05\n",
       "20076                            1.888934e+06\n",
       "20096                            6.065643e+05\n",
       "20120                            5.075102e+05"
      ]
     },
     "execution_count": 4,
     "metadata": {},
     "output_type": "execute_result"
    }
   ],
   "source": [
    "train_labels = pd.read_csv('sustainable-industry-rinse-over-run-training-labels.csv',\n",
    "                           sep=';',\n",
    "                           index_col=0)\n",
    "train_labels.head()"
   ]
  },
  {
   "cell_type": "markdown",
   "metadata": {},
   "source": [
    "# Drop final rinse"
   ]
  },
  {
   "cell_type": "code",
   "execution_count": 5,
   "metadata": {},
   "outputs": [],
   "source": [
    "train_view = train_values[train_values['phase'] != 'final_rinse']"
   ]
  },
  {
   "cell_type": "markdown",
   "metadata": {},
   "source": [
    "This drops processes that only had a final rinse. We drop them from target values for consistency:"
   ]
  },
  {
   "cell_type": "code",
   "execution_count": 6,
   "metadata": {},
   "outputs": [],
   "source": [
    "train_labels = train_labels.drop(list(set(train_values.index.unique()).difference(set(train_view.index.unique()))))"
   ]
  },
  {
   "cell_type": "markdown",
   "metadata": {
    "toc-hr-collapsed": false
   },
   "source": [
    "# Split train data"
   ]
  },
  {
   "cell_type": "code",
   "execution_count": 7,
   "metadata": {},
   "outputs": [],
   "source": [
    "np.random.seed(123)"
   ]
  },
  {
   "cell_type": "code",
   "execution_count": 8,
   "metadata": {},
   "outputs": [],
   "source": [
    "train_target = train_labels[['final_rinse_total_turbidity_liter']].sample(frac=0.7)\n",
    "test_target  = train_labels[['final_rinse_total_turbidity_liter']].drop(train_target.index)"
   ]
  },
  {
   "cell_type": "code",
   "execution_count": 9,
   "metadata": {},
   "outputs": [],
   "source": [
    "train_timeseries = train_view[train_view.index.isin(train_target.index)]\n",
    "test_timeseries  = train_view[train_view.index.isin(test_target.index)]"
   ]
  },
  {
   "cell_type": "markdown",
   "metadata": {},
   "source": [
    "# Truncate"
   ]
  },
  {
   "cell_type": "code",
   "execution_count": 10,
   "metadata": {},
   "outputs": [],
   "source": [
    "def count_phases(data):\n",
    "    phase_count = data.groupby('process_id')['phase'].nunique().value_counts().sort_index().rename('count')\n",
    "    phase_count = (phase_count.rename('pct') / phase_count.sum()).mul(100).round(1)\n",
    "    return phase_count"
   ]
  },
  {
   "cell_type": "code",
   "execution_count": 11,
   "metadata": {},
   "outputs": [
    {
     "data": {
      "text/plain": [
       "1     4.8\n",
       "2    20.3\n",
       "3     0.4\n",
       "4    74.4\n",
       "Name: pct, dtype: float64"
      ]
     },
     "execution_count": 11,
     "metadata": {},
     "output_type": "execute_result"
    }
   ],
   "source": [
    "count_phases(train_view)"
   ]
  },
  {
   "cell_type": "code",
   "execution_count": 12,
   "metadata": {},
   "outputs": [
    {
     "data": {
      "text/plain": [
       "1    14.7\n",
       "2    39.9\n",
       "3    22.8\n",
       "4    22.6\n",
       "Name: pct, dtype: float64"
      ]
     },
     "execution_count": 12,
     "metadata": {},
     "output_type": "execute_result"
    }
   ],
   "source": [
    "count_phases(test_values)"
   ]
  },
  {
   "cell_type": "markdown",
   "metadata": {},
   "source": [
    "## Truncation method\n",
    "\n",
    "We randomly select **51.8%** of the 74.4% processes with 4 phases, then randomly:\n",
    "* select **9.9%** and truncate them to 1 phase;\n",
    "* select **19.6%** and truncate them to 2 phases;\n",
    "* select **22.4%** and truncate them to 3 phases.\n"
   ]
  },
  {
   "cell_type": "code",
   "execution_count": 13,
   "metadata": {},
   "outputs": [],
   "source": [
    "trunc_params = {\n",
    "    1: 0.099,  # truncate to 1 phase\n",
    "    2: 0.196,\n",
    "    3: 0.224,\n",
    "}\n",
    "phases = ['pre_rinse', 'caustic', 'intermediate_rinse', 'acid']"
   ]
  },
  {
   "cell_type": "code",
   "execution_count": 14,
   "metadata": {},
   "outputs": [],
   "source": [
    "def truncate(data):\n",
    "    phase_count = data.groupby('process_id')['phase'].nunique()\n",
    "    nb_processes = len(phase_count)  # percentages are expressed in terms of the total population\n",
    "    sample_pool = phase_count[phase_count == 4]\n",
    "    for truncate, pct in trunc_params.items():\n",
    "        count = round(pct * nb_processes)\n",
    "        processes = sample_pool.sample(count).index.tolist()\n",
    "        data = data[~(data.index.isin(processes) & data['phase'].isin(phases[truncate:]))]\n",
    "        # drop selected processes so they are not selected again\n",
    "        sample_pool = sample_pool[~sample_pool.index.isin(processes)]\n",
    "    return data"
   ]
  },
  {
   "cell_type": "code",
   "execution_count": 15,
   "metadata": {},
   "outputs": [],
   "source": [
    "train_ts_truncated = truncate(train_timeseries)\n",
    "test_ts_truncated = truncate(test_timeseries)"
   ]
  },
  {
   "cell_type": "markdown",
   "metadata": {},
   "source": [
    "## Visual check against hidden test set"
   ]
  },
  {
   "cell_type": "code",
   "execution_count": 16,
   "metadata": {},
   "outputs": [],
   "source": [
    "def drop_consecutive_duplicates(s):\n",
    "    return ' + '.join(s[s.shift() != s])\n",
    "\n",
    "def recipe_count(data):\n",
    "    return data.sort_values(by=['phase']).groupby('process_id')['phase'].apply(drop_consecutive_duplicates).value_counts().rename('count')"
   ]
  },
  {
   "cell_type": "code",
   "execution_count": 17,
   "metadata": {},
   "outputs": [
    {
     "data": {
      "text/html": [
       "<div>\n",
       "<style scoped>\n",
       "    .dataframe tbody tr th:only-of-type {\n",
       "        vertical-align: middle;\n",
       "    }\n",
       "\n",
       "    .dataframe tbody tr th {\n",
       "        vertical-align: top;\n",
       "    }\n",
       "\n",
       "    .dataframe thead th {\n",
       "        text-align: right;\n",
       "    }\n",
       "</style>\n",
       "<table border=\"1\" class=\"dataframe\">\n",
       "  <thead>\n",
       "    <tr style=\"text-align: right;\">\n",
       "      <th></th>\n",
       "      <th>hidden_test</th>\n",
       "      <th>our_test</th>\n",
       "    </tr>\n",
       "  </thead>\n",
       "  <tbody>\n",
       "    <tr>\n",
       "      <th>caustic + pre_rinse</th>\n",
       "      <td>1182</td>\n",
       "      <td>600</td>\n",
       "    </tr>\n",
       "    <tr>\n",
       "      <th>acid + caustic + intermediate_rinse + pre_rinse</th>\n",
       "      <td>671</td>\n",
       "      <td>337</td>\n",
       "    </tr>\n",
       "    <tr>\n",
       "      <th>caustic + intermediate_rinse + pre_rinse</th>\n",
       "      <td>670</td>\n",
       "      <td>336</td>\n",
       "    </tr>\n",
       "    <tr>\n",
       "      <th>pre_rinse</th>\n",
       "      <td>292</td>\n",
       "      <td>149</td>\n",
       "    </tr>\n",
       "    <tr>\n",
       "      <th>acid</th>\n",
       "      <td>122</td>\n",
       "      <td>64</td>\n",
       "    </tr>\n",
       "    <tr>\n",
       "      <th>caustic</th>\n",
       "      <td>23</td>\n",
       "      <td>9</td>\n",
       "    </tr>\n",
       "    <tr>\n",
       "      <th>acid + caustic + intermediate_rinse</th>\n",
       "      <td>5</td>\n",
       "      <td>6</td>\n",
       "    </tr>\n",
       "    <tr>\n",
       "      <th>caustic + intermediate_rinse</th>\n",
       "      <td>2</td>\n",
       "      <td>0</td>\n",
       "    </tr>\n",
       "  </tbody>\n",
       "</table>\n",
       "</div>"
      ],
      "text/plain": [
       "                                                 hidden_test  our_test\n",
       "caustic + pre_rinse                                     1182       600\n",
       "acid + caustic + intermediate_rinse + pre_rinse          671       337\n",
       "caustic + intermediate_rinse + pre_rinse                 670       336\n",
       "pre_rinse                                                292       149\n",
       "acid                                                     122        64\n",
       "caustic                                                   23         9\n",
       "acid + caustic + intermediate_rinse                        5         6\n",
       "caustic + intermediate_rinse                               2         0"
      ]
     },
     "execution_count": 17,
     "metadata": {},
     "output_type": "execute_result"
    }
   ],
   "source": [
    "pd.concat([recipe_count(test_values).rename('hidden_test'), recipe_count(test_ts_truncated).rename('our_test')], axis=1, sort=False).fillna(0).astype(int)"
   ]
  },
  {
   "cell_type": "code",
   "execution_count": 18,
   "metadata": {},
   "outputs": [
    {
     "data": {
      "text/html": [
       "<div>\n",
       "<style scoped>\n",
       "    .dataframe tbody tr th:only-of-type {\n",
       "        vertical-align: middle;\n",
       "    }\n",
       "\n",
       "    .dataframe tbody tr th {\n",
       "        vertical-align: top;\n",
       "    }\n",
       "\n",
       "    .dataframe thead th {\n",
       "        text-align: right;\n",
       "    }\n",
       "</style>\n",
       "<table border=\"1\" class=\"dataframe\">\n",
       "  <thead>\n",
       "    <tr style=\"text-align: right;\">\n",
       "      <th></th>\n",
       "      <th>hidden_test</th>\n",
       "      <th>our_train</th>\n",
       "    </tr>\n",
       "  </thead>\n",
       "  <tbody>\n",
       "    <tr>\n",
       "      <th>caustic + pre_rinse</th>\n",
       "      <td>1182</td>\n",
       "      <td>1398</td>\n",
       "    </tr>\n",
       "    <tr>\n",
       "      <th>acid + caustic + intermediate_rinse + pre_rinse</th>\n",
       "      <td>671</td>\n",
       "      <td>791</td>\n",
       "    </tr>\n",
       "    <tr>\n",
       "      <th>caustic + intermediate_rinse + pre_rinse</th>\n",
       "      <td>670</td>\n",
       "      <td>785</td>\n",
       "    </tr>\n",
       "    <tr>\n",
       "      <th>pre_rinse</th>\n",
       "      <td>292</td>\n",
       "      <td>350</td>\n",
       "    </tr>\n",
       "    <tr>\n",
       "      <th>acid</th>\n",
       "      <td>122</td>\n",
       "      <td>135</td>\n",
       "    </tr>\n",
       "    <tr>\n",
       "      <th>caustic</th>\n",
       "      <td>23</td>\n",
       "      <td>29</td>\n",
       "    </tr>\n",
       "    <tr>\n",
       "      <th>acid + caustic + intermediate_rinse</th>\n",
       "      <td>5</td>\n",
       "      <td>16</td>\n",
       "    </tr>\n",
       "    <tr>\n",
       "      <th>caustic + intermediate_rinse</th>\n",
       "      <td>2</td>\n",
       "      <td>0</td>\n",
       "    </tr>\n",
       "  </tbody>\n",
       "</table>\n",
       "</div>"
      ],
      "text/plain": [
       "                                                 hidden_test  our_train\n",
       "caustic + pre_rinse                                     1182       1398\n",
       "acid + caustic + intermediate_rinse + pre_rinse          671        791\n",
       "caustic + intermediate_rinse + pre_rinse                 670        785\n",
       "pre_rinse                                                292        350\n",
       "acid                                                     122        135\n",
       "caustic                                                   23         29\n",
       "acid + caustic + intermediate_rinse                        5         16\n",
       "caustic + intermediate_rinse                               2          0"
      ]
     },
     "execution_count": 18,
     "metadata": {},
     "output_type": "execute_result"
    }
   ],
   "source": [
    "pd.concat([recipe_count(test_values).rename('hidden_test'), recipe_count(train_ts_truncated).rename('our_train')], axis=1, sort=False).fillna(0).astype(int)"
   ]
  },
  {
   "cell_type": "markdown",
   "metadata": {},
   "source": [
    "Looks good - we can ignore low-count recipes."
   ]
  },
  {
   "cell_type": "markdown",
   "metadata": {},
   "source": [
    "# Sanity checks"
   ]
  },
  {
   "cell_type": "markdown",
   "metadata": {},
   "source": [
    "Did we drop data points or columns?"
   ]
  },
  {
   "cell_type": "code",
   "execution_count": 19,
   "metadata": {},
   "outputs": [],
   "source": [
    "assert len(train_view) == len(train_timeseries) + len(test_timeseries)"
   ]
  },
  {
   "cell_type": "code",
   "execution_count": 20,
   "metadata": {},
   "outputs": [],
   "source": [
    "assert train_view.shape[1] == train_timeseries.shape[1] == test_timeseries.shape[1]"
   ]
  },
  {
   "cell_type": "markdown",
   "metadata": {},
   "source": [
    "Have we lost any processes?"
   ]
  },
  {
   "cell_type": "code",
   "execution_count": 21,
   "metadata": {},
   "outputs": [],
   "source": [
    "assert train_view.index.nunique() == train_ts_truncated.index.nunique() + test_ts_truncated.index.nunique()"
   ]
  },
  {
   "cell_type": "markdown",
   "metadata": {},
   "source": [
    "Did we bleed data?"
   ]
  },
  {
   "cell_type": "code",
   "execution_count": 22,
   "metadata": {},
   "outputs": [],
   "source": [
    "assert not set(train_ts_truncated.index.unique()).intersection(test_ts_truncated.index.unique())"
   ]
  },
  {
   "cell_type": "markdown",
   "metadata": {},
   "source": [
    "Do we have target values for all processes?"
   ]
  },
  {
   "cell_type": "code",
   "execution_count": 23,
   "metadata": {},
   "outputs": [],
   "source": [
    "assert not set(train_ts_truncated.index.unique()).difference(set(train_target.index))"
   ]
  },
  {
   "cell_type": "code",
   "execution_count": 24,
   "metadata": {},
   "outputs": [],
   "source": [
    "assert not set(test_ts_truncated.index.unique()).difference(set(test_target.index))"
   ]
  },
  {
   "cell_type": "markdown",
   "metadata": {},
   "source": [
    "# Save data"
   ]
  },
  {
   "cell_type": "code",
   "execution_count": 25,
   "metadata": {},
   "outputs": [],
   "source": [
    "# we sort indices to make matching of features and targets easier\n",
    "train_target = train_target.sort_index()\n",
    "test_target  =  test_target.sort_index()"
   ]
  },
  {
   "cell_type": "code",
   "execution_count": 26,
   "metadata": {},
   "outputs": [],
   "source": [
    "train_target.to_csv('train_target.csv')\n",
    "test_target.to_csv('test_target.csv')\n",
    "\n",
    "train_ts_truncated.to_csv('train_ts_truncated.csv')\n",
    "test_ts_truncated.to_csv('test_ts_truncated.csv')"
   ]
  },
  {
   "cell_type": "code",
   "execution_count": 27,
   "metadata": {},
   "outputs": [],
   "source": [
    "# save to csv without any change\n",
    "test_values.to_csv('test_values.csv')"
   ]
  }
 ],
 "metadata": {
  "kernelspec": {
   "display_name": "Python 3",
   "language": "python",
   "name": "python3"
  },
  "language_info": {
   "codemirror_mode": {
    "name": "ipython",
    "version": 3
   },
   "file_extension": ".py",
   "mimetype": "text/x-python",
   "name": "python",
   "nbconvert_exporter": "python",
   "pygments_lexer": "ipython3",
   "version": "3.7.6"
  }
 },
 "nbformat": 4,
 "nbformat_minor": 2
}
